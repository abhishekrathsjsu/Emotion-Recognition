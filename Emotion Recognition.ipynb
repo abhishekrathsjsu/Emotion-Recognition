{
 "cells": [
  {
   "cell_type": "code",
   "execution_count": 6,
   "metadata": {},
   "outputs": [],
   "source": [
    "import librosa\n",
    "import soundfile\n",
    "import os, glob, pickle\n",
    "import numpy as np\n",
    "from sklearn.model_selection import train_test_split\n",
    "from sklearn.neural_network import MLPClassifier\n",
    "from sklearn.metrics import accuracy_score"
   ]
  },
  {
   "cell_type": "code",
   "execution_count": 13,
   "metadata": {},
   "outputs": [],
   "source": [
    "#DataFlair - Extract features (mfcc, chroma, mel) from a sound file\n",
    "def extract_feature(file_name, mfcc, chroma, mel):\n",
    "    with soundfile.SoundFile(file_name) as sound_file:\n",
    "        X = sound_file.read(dtype=\"float32\")\n",
    "        sample_rate=sound_file.samplerate\n",
    "        if chroma:\n",
    "            stft=np.abs(librosa.stft(X))\n",
    "        result=np.array([])\n",
    "        if mfcc:\n",
    "            mfccs=np.mean(librosa.feature.mfcc(y=X, sr=sample_rate, n_mfcc=40).T, axis=0)\n",
    "            result=np.hstack((result, mfccs))\n",
    "        if chroma:\n",
    "            chroma=np.mean(librosa.feature.chroma_stft(S=stft, sr=sample_rate).T,axis=0)\n",
    "            result=np.hstack((result, chroma))\n",
    "        if mel:\n",
    "            mel=np.mean(librosa.feature.melspectrogram(X, sr=sample_rate).T,axis=0)\n",
    "            result=np.hstack((result, mel))\n",
    "    return result"
   ]
  },
  {
   "cell_type": "code",
   "execution_count": 14,
   "metadata": {},
   "outputs": [],
   "source": [
    "#DataFlair - Emotions in the RAVDESS dataset\n",
    "emotions={\n",
    "  '01':'neutral',\n",
    "  '02':'calm',\n",
    "  '03':'happy',\n",
    "  '04':'sad',\n",
    "  '05':'angry',\n",
    "  '06':'fearful',\n",
    "  '07':'disgust',\n",
    "  '08':'surprised'\n",
    "}\n",
    "#DataFlair - Emotions to observe\n",
    "observed_emotions=['calm', 'happy', 'fearful', 'disgust']"
   ]
  },
  {
   "cell_type": "code",
   "execution_count": 24,
   "metadata": {},
   "outputs": [],
   "source": [
    "#DataFlair - Load the data and extract features for each sound file\n",
    "def load_data(test_size=0.3):\n",
    "    x,y=[],[]\n",
    "    for file in glob.glob(\"speech-emotion-recognition-ravdess-data/Actor_*/*.wav\"):\n",
    "        file_name=os.path.basename(file)\n",
    "        emotion=emotions[file_name.split(\"-\")[2]]\n",
    "        if emotion not in observed_emotions:\n",
    "            continue\n",
    "        feature=extract_feature(file, mfcc=True, chroma=True, mel=True)\n",
    "        x.append(feature)\n",
    "        y.append(emotion)\n",
    "    return train_test_split(np.array(x), y, test_size=test_size, random_state=9)"
   ]
  },
  {
   "cell_type": "code",
   "execution_count": 25,
   "metadata": {},
   "outputs": [],
   "source": [
    "#DataFlair - Split the dataset\n",
    "x_train,x_test,y_train,y_test=load_data(test_size=0.3)"
   ]
  },
  {
   "cell_type": "code",
   "execution_count": 26,
   "metadata": {},
   "outputs": [
    {
     "name": "stdout",
     "output_type": "stream",
     "text": [
      "(537, 231)\n"
     ]
    }
   ],
   "source": [
    "#DataFlair - Get the shape of the training and testing datasets\n",
    "print((x_train.shape[0], x_test.shape[0]))"
   ]
  },
  {
   "cell_type": "code",
   "execution_count": 27,
   "metadata": {},
   "outputs": [
    {
     "name": "stdout",
     "output_type": "stream",
     "text": [
      "Features extracted: 180\n"
     ]
    }
   ],
   "source": [
    "#DataFlair - Get the number of features extracted\n",
    "print(f'Features extracted: {x_train.shape[1]}')"
   ]
  },
  {
   "cell_type": "code",
   "execution_count": 28,
   "metadata": {},
   "outputs": [],
   "source": [
    "#DataFlair - Initialize the Multi Layer Perceptron Classifier\n",
    "model=MLPClassifier(alpha=0.01, batch_size=256, epsilon=1e-08, hidden_layer_sizes=(300,), learning_rate='adaptive', max_iter=500)"
   ]
  },
  {
   "cell_type": "code",
   "execution_count": 29,
   "metadata": {},
   "outputs": [
    {
     "data": {
      "text/plain": [
       "MLPClassifier(activation='relu', alpha=0.01, batch_size=256, beta_1=0.9,\n",
       "              beta_2=0.999, early_stopping=False, epsilon=1e-08,\n",
       "              hidden_layer_sizes=(300,), learning_rate='adaptive',\n",
       "              learning_rate_init=0.001, max_fun=15000, max_iter=500,\n",
       "              momentum=0.9, n_iter_no_change=10, nesterovs_momentum=True,\n",
       "              power_t=0.5, random_state=None, shuffle=True, solver='adam',\n",
       "              tol=0.0001, validation_fraction=0.1, verbose=False,\n",
       "              warm_start=False)"
      ]
     },
     "execution_count": 29,
     "metadata": {},
     "output_type": "execute_result"
    }
   ],
   "source": [
    "#DataFlair - Train the model\n",
    "model.fit(x_train,y_train)"
   ]
  },
  {
   "cell_type": "code",
   "execution_count": 31,
   "metadata": {},
   "outputs": [
    {
     "data": {
      "text/plain": [
       "array(['fearful', 'fearful', 'fearful', 'fearful', 'fearful', 'disgust',\n",
       "       'happy', 'disgust', 'disgust', 'calm', 'fearful', 'fearful',\n",
       "       'disgust', 'calm', 'calm', 'disgust', 'disgust', 'fearful',\n",
       "       'disgust', 'happy', 'calm', 'disgust', 'calm', 'fearful', 'calm',\n",
       "       'disgust', 'happy', 'disgust', 'disgust', 'disgust', 'disgust',\n",
       "       'calm', 'disgust', 'disgust', 'calm', 'happy', 'disgust',\n",
       "       'fearful', 'calm', 'happy', 'fearful', 'disgust', 'calm',\n",
       "       'fearful', 'fearful', 'happy', 'calm', 'disgust', 'disgust',\n",
       "       'happy', 'disgust', 'fearful', 'happy', 'happy', 'happy',\n",
       "       'disgust', 'fearful', 'calm', 'calm', 'calm', 'fearful', 'calm',\n",
       "       'fearful', 'fearful', 'fearful', 'disgust', 'happy', 'calm',\n",
       "       'disgust', 'happy', 'calm', 'happy', 'disgust', 'fearful', 'happy',\n",
       "       'fearful', 'fearful', 'calm', 'disgust', 'calm', 'fearful',\n",
       "       'disgust', 'calm', 'happy', 'calm', 'disgust', 'fearful', 'happy',\n",
       "       'fearful', 'disgust', 'happy', 'disgust', 'disgust', 'disgust',\n",
       "       'fearful', 'happy', 'happy', 'calm', 'calm', 'fearful', 'happy',\n",
       "       'fearful', 'calm', 'fearful', 'happy', 'calm', 'happy', 'disgust',\n",
       "       'happy', 'disgust', 'fearful', 'happy', 'disgust', 'fearful',\n",
       "       'fearful', 'calm', 'calm', 'fearful', 'fearful', 'disgust',\n",
       "       'disgust', 'calm', 'disgust', 'fearful', 'fearful', 'fearful',\n",
       "       'fearful', 'fearful', 'fearful', 'fearful', 'happy', 'calm',\n",
       "       'calm', 'disgust', 'fearful', 'happy', 'disgust', 'fearful',\n",
       "       'happy', 'happy', 'calm', 'fearful', 'fearful', 'fearful',\n",
       "       'disgust', 'calm', 'disgust', 'fearful', 'calm', 'fearful',\n",
       "       'fearful', 'happy', 'calm', 'calm', 'calm', 'calm', 'calm',\n",
       "       'happy', 'calm', 'calm', 'disgust', 'happy', 'fearful', 'disgust',\n",
       "       'happy', 'fearful', 'fearful', 'happy', 'disgust', 'disgust',\n",
       "       'disgust', 'calm', 'disgust', 'disgust', 'disgust', 'fearful',\n",
       "       'disgust', 'disgust', 'happy', 'happy', 'disgust', 'fearful',\n",
       "       'happy', 'disgust', 'calm', 'disgust', 'disgust', 'fearful',\n",
       "       'calm', 'fearful', 'disgust', 'happy', 'disgust', 'disgust',\n",
       "       'happy', 'happy', 'happy', 'disgust', 'happy', 'calm', 'happy',\n",
       "       'disgust', 'calm', 'happy', 'calm', 'calm', 'disgust', 'happy',\n",
       "       'fearful', 'happy', 'happy', 'fearful', 'calm', 'fearful',\n",
       "       'disgust', 'fearful', 'fearful', 'calm', 'disgust', 'happy',\n",
       "       'disgust', 'happy', 'calm', 'disgust', 'calm', 'happy', 'disgust',\n",
       "       'disgust', 'happy', 'disgust', 'calm'], dtype='<U7')"
      ]
     },
     "execution_count": 31,
     "metadata": {},
     "output_type": "execute_result"
    }
   ],
   "source": [
    "#DataFlair - Predict for the test set\n",
    "y_pred=model.predict(x_test)\n",
    "y_pred"
   ]
  },
  {
   "cell_type": "code",
   "execution_count": 34,
   "metadata": {},
   "outputs": [
    {
     "name": "stdout",
     "output_type": "stream",
     "text": [
      "Accuracy: 65.37%\n"
     ]
    }
   ],
   "source": [
    "#DataFlair - Calculate the accuracy of our model\n",
    "accuracy=accuracy_score(y_true=y_test, y_pred=y_pred)\n",
    "#DataFlair - Print the accuracy\n",
    "print(\"Accuracy: {:.2f}%\".format(accuracy*100))"
   ]
  },
  {
   "cell_type": "code",
   "execution_count": null,
   "metadata": {},
   "outputs": [],
   "source": []
  }
 ],
 "metadata": {
  "kernelspec": {
   "display_name": "Python 3",
   "language": "python",
   "name": "python3"
  },
  "language_info": {
   "codemirror_mode": {
    "name": "ipython",
    "version": 3
   },
   "file_extension": ".py",
   "mimetype": "text/x-python",
   "name": "python",
   "nbconvert_exporter": "python",
   "pygments_lexer": "ipython3",
   "version": "3.7.6"
  }
 },
 "nbformat": 4,
 "nbformat_minor": 4
}
